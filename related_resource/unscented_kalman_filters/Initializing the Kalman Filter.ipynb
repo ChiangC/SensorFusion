{
 "cells": [
  {
   "cell_type": "code",
   "execution_count": 1,
   "metadata": {},
   "outputs": [],
   "source": [
    "from IPython.display import HTML"
   ]
  },
  {
   "cell_type": "code",
   "execution_count": 13,
   "metadata": {},
   "outputs": [
    {
     "data": {
      "text/html": [
       "\n",
       "<video width=\"960\" height=\"540\" controls>\n",
       "  <source src=\"videos/24 - What to Expect from the Project.mp4\">\n",
       "  <track src=\"videos/224 - What to Expect from the Project - lang_en.srt\" label=\"english\" srclang=\"en\" kind=\"subtitles\" default/>  \n",
       "  <track src=\"videos/224 - What to Expect from the Project - lang_zh-CN.srt\" label=\"简体中文\" kind=\"subtitles\"/>  \n",
       "</video>\n"
      ],
      "text/plain": [
       "<IPython.core.display.HTML object>"
      ]
     },
     "execution_count": 13,
     "metadata": {},
     "output_type": "execute_result"
    }
   ],
   "source": [
    "HTML(\"\"\"\n",
    "<video width=\"960\" height=\"540\" controls>\n",
    "  <source src=\"{0}\">\n",
    "  <track src=\"videos/224 - What to Expect from the Project - lang_en.srt\" label=\"english\" srclang=\"en\" kind=\"subtitles\" default/>  \n",
    "  <track src=\"videos/224 - What to Expect from the Project - lang_zh-CN.srt\" label=\"简体中文\" kind=\"subtitles\"/>  \n",
    "</video>\n",
    "\"\"\".format('videos/24 - What to Expect from the Project.mp4'))\n",
    "\n",
    "# HTML(\"\"\"\n",
    "# <video width=\"960\" height=\"540\" controls>\n",
    "#   <source src=\"https://s3.cn-north-1.amazonaws.com.cn/u-vid-hd/WAt_g6HgYvs.mp4\">\n",
    "#   <track src=\"24 - What to Expect from the Project - lang_en.srt\" srclang=\"en\" label=\"English\" kind=\"caption\" default>  \n",
    "#   <track src=\"24 - What to Expect from the Project - lang_zh-CN.srt\" label=\"简体中文\" kind=\"caption\">  \n",
    "# </video>\n",
    "# \"\"\")\n",
    "\n"
   ]
  },
  {
   "cell_type": "markdown",
   "metadata": {},
   "source": [
    "####  Initializing the Kalman Filter\n",
    "As discussed previously, the process noise parameters have an important effect on your Kalman filter; you will need to tune the longitudinal and yaw acceleration noise parameters as part of the project.\n",
    "\n",
    "The initial values for your state variables will also affect your Kalman filter's performance. Both the:\n",
    "\n",
    "* state vector **x** and the\n",
    "* state covariance matrix **P**\n",
    "\n",
    "need to be initialized for the unscented Kalman filter to work properly.\n",
    "\n",
    "##### Initializing the State Vector x\n",
    "The state vector **x** contains ${x = [p_x, p_y, v, \\psi, \\dot{\\psi}]}$\n",
    "\n",
    "You won't know where the bicycle is until you receive the first sensor measurement. Once the first sensor measurement arrives, you can initialize ${p_x}$and ${p_y}$.\n",
    "\n",
    "For the other variables in the state vector **x**, you can try different initialization values to see what works best.\n",
    "\n",
    "Note that although radar does include velocity information, the radar velocity and the CTRV velocity are not the same. Radar velocity is measured from the autonomous vehicle's perspective. If you drew a straight line from the vehicle to the bicycle, radar measures the velocity along that line.\n",
    "\n",
    "In the CTRV model, the velocity is from the object's perspective, which in this case is the bicycle; the CTRV velocity is tangential to the circle along which the bicycle travels. Therefore, you cannot directly use the radar velocity measurement to initialize the state vector.\n",
    "\n",
    "##### Initializing the State Covariance Matrix P\n",
    "To initialize the state covariance matrix **`P`**, one option is to start with the identity matrix. For the CTRV model, **`P`** is a 5x5 matrix. The identity matrix would be:\n",
    "${P_{\\text initial} = \\begin{bmatrix} 1 \\qquad 0 \\qquad 0 \\qquad 0 \\qquad 0 \\\\ 0 \\qquad 1 \\qquad 0 \\qquad 0 \\qquad 0 \\\\ 0 \\qquad 0 \\qquad 1 \\qquad 0 \\qquad 0 \\\\ 0 \\qquad 0 \\qquad 0 \\qquad 1 \\qquad 0 \\\\ 0 \\qquad 0 \\qquad 0 \\qquad 0 \\qquad 1 \\end{bmatrix}}$\n",
    "\n",
    "Think back to what the state covariance matrix represents: take for example the value in the first row, second column. The value at (1, 2) would be the covariance ${\\large \\sigma_{px, py}}$ measuring the linear relationship between the two variables.\n",
    "\n",
    "The diagonal values represent the variances for each of the variables in the **x** state vector: ${\\large [\\sigma^2_{p_x}, \\sigma^2_{p_y}, \\sigma^2_{v}, \\sigma^2_{\\psi}, \\sigma^2_{\\dot{\\psi}}]}$.\n",
    "\n",
    "Why is the identity matrix a good place to start? Since the non-diagonal values represent the covariances between variables, the **`P`** matrix is symmetrical. The identity matrix is also symmetrical. The symmetry comes from the fact that the covariance between two variables is the same whether you look at (x, y) or (y, x): ${\\large \\sigma_{px, py} = \\sigma_{py, px}}$. If you print out the **`P`** matrix in your UKF code, you will see that **`P`** remains symmetrical even after the matrix gets updated. If your solution is working, you will also see that P starts to converge to small values relatively quickly.\n",
    "\n",
    "Instead of setting each of the diagonal values to 1, you can try setting the diagonal values by how much difference you expect between the true state and the initialized **x** state vector. For example, in the project, we assume the standard deviation of the lidar x and y measurements is 0.15. If we initialized ${p_x}$ with a lidar measurement, the initial variance or uncertainty in ${p_x}$ would probably be less than 1.\n",
    "\n",
    "You will have to experiment with different initialization values to find a working solution.\n"
   ]
  }
 ],
 "metadata": {
  "kernelspec": {
   "display_name": "Python 3",
   "language": "python",
   "name": "python3"
  },
  "language_info": {
   "codemirror_mode": {
    "name": "ipython",
    "version": 3
   },
   "file_extension": ".py",
   "mimetype": "text/x-python",
   "name": "python",
   "nbconvert_exporter": "python",
   "pygments_lexer": "ipython3",
   "version": "3.7.3"
  }
 },
 "nbformat": 4,
 "nbformat_minor": 2
}
